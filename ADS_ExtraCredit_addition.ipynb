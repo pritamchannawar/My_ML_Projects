{
 "cells": [
  {
   "cell_type": "markdown",
   "metadata": {},
   "source": [
    "# Extra Credit Project Linkage Clustering with L2, L1 , jacobian, correlation, cosine, jaccard, jaccard coefficient distance(without inbuilt libraries)\n",
    "## by Pritam Channawar"
   ]
  },
  {
   "cell_type": "markdown",
   "metadata": {},
   "source": [
    "# Import Libraries"
   ]
  },
  {
   "cell_type": "code",
   "execution_count": 1,
   "metadata": {},
   "outputs": [],
   "source": [
    "import warnings\n",
    "warnings.filterwarnings(\"ignore\")\n",
    "#conda install hclust2=1.0.0"
   ]
  },
  {
   "cell_type": "code",
   "execution_count": 2,
   "metadata": {},
   "outputs": [],
   "source": [
    "from __future__ import division\n",
    "import numpy as np"
   ]
  },
  {
   "cell_type": "markdown",
   "metadata": {},
   "source": [
    "# The Lance-Williams algorithms\n",
    "In the naive implementation of agglomerative hierarchical clustering, you compute the distance matrix between each cluster at each step. The Lance-Williams algorithms are a family of agglomerative hierarchical clustering algorithms which are represented by a recursive formula for computing cluster distances at each step. Any hierarchical clustering technique that can be expressed using the Lance-Williams formula does not need to keep the original data points.\n",
    "\n",
    "We’ll use Wikipedia’s notation here. Suppose that C_i, C_j are the next clusters to be merged. Let d_{ij} be the distance (using any method discussed above) between C_i and C_j. Further, let d_{(ij)k} be the distance between the merged cluster C_i \\cup C_j and cluster C_k. An algorithm belongs to the Lance-Williams family if the distance d_{(ij)k} can be recursively computed as\n",
    "\n",
    "d_{(ij)k} = \\alpha_i d_{ik} + \\alpha_j d_{jk} + \\beta d_{ij} + \\gamma \\left\\vert d_{ik}-d_{jk} \\right\\vert\n",
    "\n",
    "All the methods we discussed above belong to the Lance-Williams family. This table summarizes the coefficient values."
   ]
  },
  {
   "cell_type": "markdown",
   "metadata": {},
   "source": [
    "# Implementing hierarchical clustering\n",
    "Now let’s implement hierarchical clustering. We’ll use the Lance-Williams formula."
   ]
  },
  {
   "cell_type": "raw",
   "metadata": {},
   "source": [
    "Clustering Method\t\\alpha_i\t\\alpha_j\t\\beta\t\\gamma\n",
    "Single Linkage\t0.5\t0.5\t0\t-0.5\n",
    "Complete Linkage\t0.5\t0.5\t0\t0.5\n",
    "Group Average\t\\frac{n_i}{n_i+n_j}\t\\frac{n_j}{n_i+n_j}\t0\t0\n",
    "Ward’s method\t\\frac{n_i+n_k}{n_i+n_j+n_k}\t\\frac{n_j+n_k}{n_i+n_j+n_k}\t\\frac{-n_k}{n_i+n_j+n_k}\t0"
   ]
  },
  {
   "cell_type": "markdown",
   "metadata": {},
   "source": [
    "# Functions for clustering and dendrogram  "
   ]
  },
  {
   "cell_type": "code",
   "execution_count": 3,
   "metadata": {},
   "outputs": [],
   "source": [
    "#This function is used to update the distance matrix in the clustering procedure.\n",
    "\n",
    "def _general_link(clusters, i, j, method):\n",
    "    for k in range(len(clusters)):\n",
    "        if k != i and k != j:\n",
    "            if method.__name__ == \"ward_update\":\n",
    "                new_distance = method(clusters[i,k], clusters[j,k], k)\n",
    "            else:\n",
    "                new_distance = method(clusters[i,k], clusters[j,k])\n",
    "            clusters[i,k] = new_distance\n",
    "            clusters[k,i] = new_distance\n",
    "    return clusters"
   ]
  },
  {
   "cell_type": "code",
   "execution_count": 4,
   "metadata": {},
   "outputs": [],
   "source": [
    "def single_link(clusters, i, j, dendrogram):\n",
    "    ks = np.arange(clusters.shape[0])\n",
    "    ks = ks[(ks!=i) & (ks!=j)]\n",
    "    minima = np.minimum(clusters[i,], clusters[j,])[ks]\n",
    "    clusters[i,ks] = minima\n",
    "    clusters[ks,i] = minima\n",
    "    return clusters\n",
    "    # return _general_link(clusters, i, j, min)"
   ]
  },
  {
   "cell_type": "markdown",
   "metadata": {},
   "source": [
    "Hierarchical Agglomerative Clustering using single linkage. Cluster j is\n",
    "clustered with cluster i when the minimum distance between any\n",
    "of the members of i and j is the smallest distance in the vector space.\n",
    "    Lance-Williams parameters:\n",
    "    M{S{alpha}(i) = 0.5; S{beta} = 0; S{gamma} = -0.5} which equals\n",
    "    M{min(d(i,k),d(j,k))}\n",
    "    "
   ]
  },
  {
   "cell_type": "code",
   "execution_count": 5,
   "metadata": {},
   "outputs": [],
   "source": [
    "def complete_link(clusters, i, j, dendrogram):\n",
    "    ks = np.arange(clusters.shape[0])\n",
    "    ks = ks[(ks!=i) & (ks!=j)]\n",
    "    maxima = np.maximum(clusters[i,], clusters[j,])[ks]\n",
    "    clusters[i,ks] = maxima\n",
    "    clusters[ks,i] = maxima\n",
    "    return clusters\n",
    "    # return _general_link(clusters, i, j, max)"
   ]
  },
  {
   "cell_type": "markdown",
   "metadata": {},
   "source": [
    "Hierarchical Agglomerative Clustering using complete linkage. Cluster j is clustered with cluster i when the maximum distance between any of the members of i and j is the smallest distance in the vector space. Lance-Williams parameters:\n",
    "    M{S{alpha}(i) = 0.5; S{beta} = 0; S{gamma} = 0.5} which equals \n",
    "    M{max(d(i,k),d(j,k))}\n",
    "    "
   ]
  },
  {
   "cell_type": "code",
   "execution_count": 6,
   "metadata": {},
   "outputs": [],
   "source": [
    "def WPGMA_link(clusters, i, j, dendrogram):\n",
    "    update_fn = lambda d_ik,d_jk: (d_ik + d_jk) / 2\n",
    "    return _general_link(clusters, i, j, update_fn)"
   ]
  },
  {
   "cell_type": "markdown",
   "metadata": {},
   "source": [
    "Hierarchical Agglomerative Clustering using weighted linkage called as WPGMA(Weighted Pair Group Method with Arithmetic Mean). Cluster j is clustered with cluster i when the mean of distance between any of the members of i and j is the average distance in the vector space. Lance-Williams parameters: M{S{alpha}(i) = 0.5;S{alpha}(j) = 0.5; S{beta} = 0; S{gamma} = 0} which equals M{(d(i,k)+d(j,k)/2}"
   ]
  },
  {
   "cell_type": "code",
   "execution_count": 7,
   "metadata": {},
   "outputs": [],
   "source": [
    "def UPGMA_link(clusters, i, j, dendrogram):\n",
    "    n_i, n_j = len(dendrogram[i]), len(dendrogram[j])\n",
    "    a_i = n_i / (n_i + n_j)\n",
    "    a_j = n_j / (n_i + n_j)\n",
    "    update_fn = lambda d_ik,d_jk: a_i*d_ik + a_j*d_jk\n",
    "    return _general_link(clusters, i, j, update_fn)"
   ]
  },
  {
   "cell_type": "markdown",
   "metadata": {},
   "source": [
    "Hierarchical Agglomerative Clustering using group average linkage also known as UPGMA(nweighted pair group method with arithmetic mean). Cluster j is clustered with cluster i when the pairwise average of values between the clusters is the smallest in the vector space.\n",
    "    Lance-Williams parameters:\n",
    "    M{S{alpha}(i) = |i|/(|i|+|j|); S{beta} = 0; S{gamma} = 0}\n",
    "    "
   ]
  },
  {
   "cell_type": "code",
   "execution_count": 8,
   "metadata": {},
   "outputs": [],
   "source": [
    "def median_link(clusters, i, j, dendrogram):\n",
    "    update_fn = lambda d_ik,d_jk: 0.5*d_ik + 0.5*d_jk + -0.25*clusters[i,j]\n",
    "    return _general_link(clusters, i, j, update_fn)"
   ]
  },
  {
   "cell_type": "markdown",
   "metadata": {},
   "source": [
    "Hierarchical Agglomerative Clustering using median linkage. Cluster j is clustered with cluster i when the distance between the median values of the clusters is the smallest in the vector space. Lance-Williams parameters:\n",
    "    M{S{alpha}(i) = 0.5; S{beta} = -0.25; S{gamma} = 0}"
   ]
  },
  {
   "cell_type": "code",
   "execution_count": 9,
   "metadata": {},
   "outputs": [],
   "source": [
    "def PDLM_link(clusters, i, j, dendrogram):\n",
    "    n_i, n_j = len(dendrogram[i]), len(dendrogram[j])\n",
    "    a_i = n_i / (n_i + n_j)\n",
    "    a_j = n_j / (n_i + n_j)\n",
    "    b = -(n_i * n_j) / pow((n_i + n_j),2)\n",
    "    update_fn = lambda d_ik,d_jk: a_i*d_ik + a_j*d_jk + b*clusters[i,j]\n",
    "    return _general_link(clusters, i, j, update_fn)"
   ]
  },
  {
   "cell_type": "markdown",
   "metadata": {},
   "source": [
    "Hierarchical Agglomerative Clustering using centroid linkage also called as prototype distance linkage mean. Cluster j is clustered with cluster i when the distance between the centroids of the clusters is the smallest in the vector space.\n",
    "    Lance-Williams parameters:\n",
    "    M{S{alpha}(i) = |i| / (|i| + |j|); S{beta} = -|i||j| / (|i|+ |j|)^2; \n",
    "    S{gamma} = 0}"
   ]
  },
  {
   "cell_type": "code",
   "execution_count": 10,
   "metadata": {},
   "outputs": [],
   "source": [
    "def ward_link(clusters, i, j, dendrogram):\n",
    "    n_i, n_j = len(dendrogram[i]), len(dendrogram[j])\n",
    "    def ward_update(d_ik, d_jk, k):\n",
    "        n_k = len(dendrogram[k])\n",
    "        n_ijk = n_i+n_j+n_k\n",
    "        return ( (n_i+n_k)/(n_ijk)*d_ik + (n_j+n_k)/(n_ijk)*d_jk +\n",
    "                 -(n_k/(n_ijk))*clusters[i][j] )\n",
    "    return _general_link(clusters, i, j, ward_update)"
   ]
  },
  {
   "cell_type": "markdown",
   "metadata": {},
   "source": [
    "Hierarchical Agglomerative Clustering using Ward's linkage. Two clusters i and j are merged when their merge results in the smallest increase in the sum of error squares in the vector space.\n",
    "    Lance-Williams parameters:\n",
    "    M{S{alpha}(i) = (|i| + |k|) / (|i| + |j| + |k|); \n",
    "    S{beta} = -|k|/(|i| + |j| + |k|); S{gamma} = 0}"
   ]
  },
  {
   "cell_type": "code",
   "execution_count": 11,
   "metadata": {},
   "outputs": [],
   "source": [
    "LINKAGES = {'ward': ward_link, \n",
    "            'complete': complete_link,\n",
    "            'single': single_link,\n",
    "            'PDLM': PDLM_link,\n",
    "            'UPGMA': UPGMA_link,\n",
    "            'median': median_link,\n",
    "           'WPGMA': WPGMA_link}"
   ]
  },
  {
   "cell_type": "code",
   "execution_count": 12,
   "metadata": {},
   "outputs": [],
   "source": [
    "def linkage_fn(linkage):\n",
    "    if linkage in LINKAGES:\n",
    "        return LINKAGES[linkage]\n",
    "    raise ValueError(\"Linkage funtion '%s' is not supported\" % linkage)\n",
    "\n",
    "__all__ = ['single_link', 'complete_link', 'PDLM_link', 'ward_link',\n",
    "           'median_link', 'UPGMA_link', 'WPGMA_link']"
   ]
  },
  {
   "cell_type": "code",
   "execution_count": 13,
   "metadata": {},
   "outputs": [],
   "source": [
    "import copy\n",
    "import sys\n",
    "import numpy as np\n",
    "\n",
    "import numpy\n",
    "\n",
    "from operator import itemgetter\n",
    "\n",
    "class DendrogramNode(object):\n",
    "    #Represents a node in a dendrogram\n",
    "    def __init__(self, id, *children):\n",
    "        self.id = id\n",
    "        self.distance = 0.0\n",
    "        self._children = children\n",
    "\n",
    "    def leaves(self):\n",
    "    #Return the leaves of all children of a given node\n",
    "        if self._children:\n",
    "            leaves = []\n",
    "            for child in self._children:\n",
    "                leaves.extend(child.leaves())\n",
    "            return leaves\n",
    "        else:\n",
    "            return [self]\n",
    "\n",
    "    def adjacency_list(self):\n",
    "#For each merge in the dendrogram, return the direct children of the cluster, \n",
    "#the distance between them and the number of items in the cluster.\n",
    "        \n",
    "        if self._children:\n",
    "            a_list = [(self.id, self._children[0].id, self._children[1].id,\n",
    "                       self.distance, len(self))]\n",
    "            for child in self._children:\n",
    "                a_list.extend(child.adjacency_list())\n",
    "            return a_list\n",
    "        else: return []\n",
    "\n",
    "    def __len__(self):\n",
    "        return len(self.leaves())"
   ]
  },
  {
   "cell_type": "code",
   "execution_count": 14,
   "metadata": {},
   "outputs": [],
   "source": [
    "class Dendrogram(list):\n",
    "    \n",
    "    def __init__(self, items):\n",
    "        super(Dendrogram, self).__init__(map(DendrogramNode, range(len(items))))\n",
    "        self._num_items = len(self)\n",
    "\n",
    "    def merge(self, *indices):\n",
    "        \n",
    "        #Merge two or more nodes at the given INDICES in the dendrogram.\n",
    "        #The new node will get the index of the first node specified.\n",
    "        \n",
    "        assert len(indices) >= 2\n",
    "        node = DendrogramNode(\n",
    "            self._num_items, *[self[i] for i in indices])\n",
    "        self._num_items += 1\n",
    "        self[indices[0]] = node\n",
    "        for i in indices[1:]:\n",
    "            del self[i]\n",
    "\n",
    "    def to_linkage_matrix(self):\n",
    "        Z = self[0].adjacency_list()\n",
    "        Z.sort()\n",
    "        Z = numpy.array(Z)\n",
    "        return Z[:,1:]\n",
    "\n",
    "    def draw(self, show=True, save=False, format=\"pdf\", labels=None, title=None, fontsize=None):\n",
    "        #Draw the dendrogram using pylab and matplotlib.\n",
    "        try:\n",
    "            from scipy.cluster.hierarchy import dendrogram as scipy_dendrogram\n",
    "        except ImportError:\n",
    "            raise ImportError(\"Scipy not installed, can't draw dendrogram\")\n",
    "        try:\n",
    "            import pylab\n",
    "        except ImportError:\n",
    "            raise ImportError(\"Pylab not installed, can't draw dendrogram\")\n",
    "        try:\n",
    "            import matplotlib.pyplot as plt\n",
    "        except ImportError:\n",
    "            raise ImportError(\"Matplotlib not installed, can't draw dendrogram\")\n",
    "\n",
    "        fig = plt.figure()\n",
    "        ax = fig.add_subplot(111, fc='white')\n",
    "\n",
    "        plt.rcParams['font.family'] = 'arial'\n",
    "        plt.rcParams['font.size'] = 6\n",
    "        plt.rcParams['lines.linewidth'] = 0.75\n",
    "\n",
    "        m = self.to_linkage_matrix()\n",
    "\n",
    "        d = scipy_dendrogram(m, labels=labels,\n",
    "                             leaf_font_size=fontsize,\n",
    "                             color_threshold=0.7*max(m[:,2]),\n",
    "                             leaf_rotation=180)\n",
    "\n",
    "        ax = plt.gca()\n",
    "        ax_labels = ax.get_xmajorticklabels()+ax.get_ymajorticklabels()\n",
    "        for i in range(len(ax_labels)):\n",
    "            ax_labels[i].set_family('arial')\n",
    "\n",
    "        ax.get_yaxis().set_ticks([])\n",
    "        ax.spines['right'].set_visible(False)\n",
    "        ax.spines['top'].set_visible(False)\n",
    "        ax.spines['bottom'].set_visible(False)\n",
    "        ax.spines['left'].set_visible(False)\n",
    "        ax.xaxis.set_ticks_position('bottom')\n",
    "        plt.xticks(rotation=90)\n",
    "\n",
    "        plt.tick_params(axis='x', which='both', bottom='off', top='off')\n",
    "        plt.tick_params(axis='y', which='both', bottom='off', top='off')\n",
    "        ax.xaxis.grid(False)\n",
    "        ax.yaxis.grid(False)\n",
    "\n",
    "        plt.rcParams[\"figure.facecolor\"] = \"white\"\n",
    "        plt.rcParams[\"axes.facecolor\"] = \"white\"\n",
    "        plt.rcParams[\"savefig.facecolor\"] = \"white\"\n",
    "\n",
    "        if title is not None:\n",
    "            fig.suptitle(title, fontsize=12)\n",
    "        if show:\n",
    "            fig.show()\n",
    "        if save:\n",
    "            fig.savefig('dendrogram.%s' % (format,))\n",
    "\n",
    "    def ete_tree(self, labels=None):\n",
    "        if sys.version_info[0] == 2:\n",
    "            from ete2 import Tree, NodeStyle, TreeStyle\n",
    "        elif sys.version_info[0] == 3:\n",
    "            from ete3 import Tree, NodeStyle, TreeStyle\n",
    "        else:\n",
    "            raise ValueError('Your version of Python is not supported.')\n",
    "\n",
    "        from scipy.cluster.hierarchy import to_tree\n",
    "\n",
    "        T = to_tree(self.to_linkage_matrix())\n",
    "        root = Tree()\n",
    "        root.dist = 0\n",
    "        root.name = \"root\"\n",
    "        item2node = {T: root}\n",
    "        to_visit = [T]\n",
    "        while to_visit:\n",
    "            node = to_visit.pop()\n",
    "            cl_dist = node.dist / 2.0\n",
    "            for ch_node in [node.left, node.right]:\n",
    "                if ch_node:\n",
    "                    ch = Tree()\n",
    "                    ch.dist = cl_dist\n",
    "                    ch.name = str(ch_node.id)\n",
    "                    item2node[node].add_child(ch)\n",
    "                    item2node[ch_node] = ch\n",
    "                    to_visit.append(ch_node)\n",
    "        if labels != None:\n",
    "            for leaf in root.get_leaves():\n",
    "                leaf.name = str(labels[int(leaf.name)])\n",
    "\n",
    "        ts = TreeStyle()\n",
    "        ts.show_leaf_name = True\n",
    "\n",
    "        # Draws nodes as small red spheres of diameter equal to 10 pixels\n",
    "        nstyle = NodeStyle()\n",
    "        nstyle[\"shape\"] = None\n",
    "        nstyle[\"size\"] = 0\n",
    "\n",
    "        # Gray dashed branch lines\n",
    "        nstyle[\"hz_line_type\"] = 1\n",
    "        nstyle[\"hz_line_color\"] = \"#cccccc\"\n",
    "\n",
    "        # Applies the same static style to all nodes in the tree. Note that,\n",
    "        # if \"nstyle\" is modified, changes will affect to all nodes\n",
    "        for n in root.traverse():\n",
    "           n.set_style(nstyle)\n",
    "        return root"
   ]
  },
  {
   "cell_type": "code",
   "execution_count": 15,
   "metadata": {},
   "outputs": [],
   "source": [
    "import numpy\n",
    "from numpy import dot, sqrt\n",
    "\n",
    "def cosine_distance(u, v, binary=False):\n",
    "    \"\"\"Return the cosine distance between two vectors.\"\"\"\n",
    "    if binary:\n",
    "        return cosine_distance_binary(u, v)\n",
    "    return 1.0 - dot(u, v) / (sqrt(dot(u, u)) * sqrt(dot(v, v)))\n",
    "    \n",
    "def cosine_distance_binary(u, v):\n",
    "    u = binarize_vector(u)\n",
    "    v = binarize_vector(v)\n",
    "    return (1.0 * (u * v).sum()) / numpy.sqrt((u.sum() * v.sum()))\n",
    "\n",
    "def euclidean_distance(u, v):\n",
    "    \"\"\"Return the euclidean distance between two vectors.\"\"\"\n",
    "    diff = u - v\n",
    "    return sqrt(dot(diff, diff))\n",
    "\n",
    "def manhattan_distance(u, v):\n",
    "    \"\"\"Return the Manhattan/City Block distance between two vectors.\"\"\"\n",
    "    return abs(u-v).sum()\n",
    "\n",
    "def canberra_distance(u, v):\n",
    "    \"\"\"Return the canberra distance between two vectors.\"\"\"\n",
    "    return numpy.sum(abs(u-v) / abs(u+v))\n",
    "\n",
    "def correlation(u, v):\n",
    "    \"\"\"Return the correlation distance between two vectors.\"\"\"\n",
    "    u_var = u - u.mean()\n",
    "    v_var = v - v.mean()\n",
    "    return 1.0 - dot(u_var, v_var) / (sqrt(dot(u_var, u_var)) *\n",
    "                                      sqrt(dot(v_var, v_var)))\n",
    "\n",
    "def dice(u, v):\n",
    "    \"\"\"Return the dice coefficient between two vectors.\"\"\"\n",
    "    u = u > 0\n",
    "    v = v > 0\n",
    "    return (2.0 * (u * v).sum()) / (u.sum() + v.sum())\n",
    "\n",
    "def jaccard_distance(u, v):\n",
    "    \"\"\"return jaccard distance\"\"\"\n",
    "    u = numpy.asarray(u)\n",
    "    v = numpy.asarray(v)\n",
    "    return (numpy.double(numpy.bitwise_and((u != v),\n",
    "            numpy.bitwise_or(u != 0, v != 0)).sum())\n",
    "            /  numpy.double(numpy.bitwise_or(u != 0, v != 0).sum()))\n",
    "\n",
    "def jaccard(u, v):\n",
    "    \"\"\"Return the Jaccard coefficient between two vectors.\"\"\"\n",
    "    u = u > 0\n",
    "    v = v > 0\n",
    "    return (1.0 * (u * v).sum()) / (u + v).sum() "
   ]
  },
  {
   "cell_type": "code",
   "execution_count": 16,
   "metadata": {},
   "outputs": [],
   "source": [
    "import string\n",
    "\n",
    "class Text(object):\n",
    "    def __init__(self, id, title, author, year, text, kind=None):\n",
    "        self._id = id\n",
    "        self._text = text\n",
    "        self._title = title\n",
    "        self._author = author\n",
    "        self._year = int(year)\n",
    "        self._kind = kind\n",
    "        # remove all punctuation, transform to lowercase and split on spaces\n",
    "        self._tokens = text.translate(None, string.punctuation).lower().split()\n",
    "\n",
    "    def __hash__(self): # IS THIS ALLOWED?\n",
    "        return self._id\n",
    "\n",
    "    def title(self): return self._title\n",
    "    def author(self): return self._author\n",
    "    def year(self): return self._year\n",
    "    def kind(self): return self._kind\n",
    "\n",
    "    def __getitem__(self, i):\n",
    "        if isinstance(i, slice):\n",
    "            return self._tokens[i.start:i.stop]\n",
    "        else:\n",
    "            return self._tokens[i]\n",
    "\n",
    "    def __len__(self):\n",
    "        return len(self._tokens)"
   ]
  },
  {
   "cell_type": "code",
   "execution_count": 17,
   "metadata": {},
   "outputs": [],
   "source": [
    "class AbstractClusterer(object):\n",
    "    \n",
    "    #Abstract interface covering basic clustering functionality.\n",
    "    \n",
    "    def __init__(self, data, linkage, num_clusters):\n",
    "        \n",
    "        raise AssertionError('AbstractClusterer is an abstract interface')\n",
    "        \n",
    "    def iterate_clusters(self):\n",
    "\n",
    "        #Iterate over all unique vector combinations in the matrix.\n",
    "        \n",
    "        raise AssertionError('AbstractClusterer is an abstract interface')\n",
    "        \n",
    "    def smallest_distance(self, clusters):\n",
    "        \n",
    "        #Return the smallest distance in the distance matrix.\n",
    "        #The smallest distance depends on the possible connections in the distance matrix.\n",
    "        \n",
    "        raise AssertionError('AbstractClusterer is an abstract interface')\n",
    "        \n",
    "    def cluster(self, verbose=0, sum_ess=False):\n",
    "\n",
    "        #Cluster all clusters hierarchically unitl the level of \n",
    "        #num_clusters is obtained.\n",
    "        \n",
    "        raise AssertionError('AbstractClusterer is an abstract interface')\n",
    "        \n",
    "    def update_distmatrix(self, i, j, clusters):\n",
    "       \n",
    "        #Update the distance matrix using the specified linkage method, so that\n",
    "        #it represents the correct distances to the newly formed cluster.\n",
    "        \n",
    "        return self.linkage(clusters, i, j, self._dendrogram)\n",
    "        \n",
    "    def dendrogram(self):\n",
    "        \n",
    "        #Return the dendrogram object.\n",
    "        \n",
    "        return self._dendrogram\n",
    "        \n",
    "    def num_clusters(self):\n",
    "        \n",
    "        #Return the number of clusters.\n",
    "        \n",
    "        return self._num_clusters"
   ]
  },
  {
   "cell_type": "code",
   "execution_count": 18,
   "metadata": {},
   "outputs": [],
   "source": [
    "from __future__ import division\n",
    "from __future__ import absolute_import\n",
    "\n",
    "import numpy\n",
    "import copy\n",
    "import argparse\n",
    "\n",
    "from operator import itemgetter\n",
    "from collections import defaultdict\n",
    "from itertools import combinations, product\n",
    "\n",
    "from sklearn.metrics.pairwise import pairwise_distances"
   ]
  },
  {
   "cell_type": "code",
   "execution_count": 19,
   "metadata": {},
   "outputs": [],
   "source": [
    "class CooccurrenceMatrix(numpy.ndarray):\n",
    "    # Represents a co-occurrence matrix.\n",
    "    def __new__(cls, data, dtype=None):\n",
    "        if not isinstance(data, CooccurrenceMatrix):\n",
    "            data, rownames, colnames = CooccurrenceMatrix.convert(data)\n",
    "        else:\n",
    "            rownames, colnames = data.rownames, data.colnames\n",
    "        obj = numpy.asarray(data).view(cls)\n",
    "        obj.rownames = rownames\n",
    "        obj.colnames = colnames\n",
    "        return obj\n",
    "\n",
    "    def __array_finialize__(self, obj):\n",
    "        if obj is None: return\n",
    "        self.rownames = getattr(obj, 'rownames', None)\n",
    "        self.colnames = getattr(obj, 'colnames', None)\n",
    "\n",
    "    def row(self, row):\n",
    "        return self[self.rownames.get(row)]\n",
    "\n",
    "    def col(self, col):\n",
    "        return self[:,self.colnames.get(col)]\n",
    "\n",
    "    def cell(self, row, col):\n",
    "        return self[self.rownames.get(row), self.colnames.get(col)]\n",
    "\n",
    "    @classmethod\n",
    "    def convert(cls, data):\n",
    "        matrix = numpy.zeros((len(set(k for k,v in data)),\n",
    "                              len(set(v for k,v in data))))\n",
    "        colnames, rownames = {}, {}\n",
    "        for k,v in sorted(data):\n",
    "            if k not in rownames:\n",
    "                rownames[k] = len(rownames)\n",
    "            if v not in colnames:\n",
    "                colnames[v] = len(colnames)\n",
    "            matrix[rownames[k],colnames[v]] += 1\n",
    "        #rownames = [k for k,v in sorted(rownames.items(), key=itemgetter(1))]\n",
    "        #colnames = [k for k,v in sorted(colnames.items(), key=itemgetter(1))]\n",
    "        return matrix, rownames, colnames\n",
    "\n",
    "    def tfidf(self):\n",
    "        \n",
    "       # Returns a matrix in which for all entries in the co-occurence matrix\n",
    "        #the 'term frequency-inverse document frequency' is calculated.\n",
    "        \n",
    "        matrix = numpy.zeros(self.shape)\n",
    "        # the number of words in a document\n",
    "        words_per_doc = numpy.asarray(self.sum(axis=1), dtype=float)\n",
    "        # the number of documents in which a word is attested.\n",
    "        word_frequencies = numpy.asarray(numpy.sum(self > 0, axis=0), dtype=float)\n",
    "        # calculate the term frequencies\n",
    "        for i in range(self.shape[0]):\n",
    "            tf = self[i] / words_per_doc[i] # array of tf's\n",
    "            matrix[i] = tf * (numpy.log(self.shape[0] / word_frequencies))\n",
    "        return matrix"
   ]
  },
  {
   "cell_type": "code",
   "execution_count": 20,
   "metadata": {},
   "outputs": [],
   "source": [
    "class DistanceMatrix(numpy.ndarray):\n",
    "    \n",
    "    #Simple wrapper around numpy.ndarray, to provide some custom\n",
    "    #Distance Matrix functionality like plotting the distance matrix\n",
    "    #with matplotlib.\n",
    "    \n",
    "    def __new__(cls, data, dist_metric=euclidean_distance, lower=True):\n",
    "        if (not isinstance(data, (numpy.ndarray, DistanceMatrix))\n",
    "            or len(data) != len(data[0])\n",
    "            or not max(numpy.diag(data)) == 0):\n",
    "            data = DistanceMatrix.convert_to_distmatrix(data, dist_metric, lower=lower)\n",
    "        obj = numpy.asarray(data).view(cls)\n",
    "        obj.distance_metric = dist_metric\n",
    "        return obj\n",
    "\n",
    "    def __array_finialize__(self, obj):\n",
    "        if obj is None: return\n",
    "        self.distance_metric = getattr(obj, 'distance_metric', None)\n",
    "\n",
    "    def row(self, row):\n",
    "        return self[self.rownames.get(row)]\n",
    "\n",
    "    def col(self, col):\n",
    "        return self[:,self.colnames.get(col)]\n",
    "\n",
    "    def cell(self, row, col):\n",
    "        return self[self.rownames.get(row), self.colnames.get(col)]\n",
    "\n",
    "    def rows(self):\n",
    "        return [k for k,v in sorted(self.rownames.items(), key=itemgetter(1))]\n",
    "\n",
    "    @classmethod\n",
    "    def convert_to_distmatrix(cls, data, distance, lower=True):\n",
    "        matrix = numpy.zeros((len(data), len(data)))\n",
    "        for i,j in combinations(range(len(data)), 2):\n",
    "            matrix[i][j] = distance(data[i], data[j])\n",
    "            if lower == True:\n",
    "                matrix[j][i] = matrix[i][j]\n",
    "        # add a nan-diagonal, useful for further computations.\n",
    "        numpy.fill_diagonal(matrix, numpy.nan)\n",
    "        return matrix\n",
    "\n",
    "    def diag_is_zero(self):\n",
    "        #Check if the diagonal contains only distances of 0\n",
    "        return max(numpy.diag(self)) == 0\n",
    "\n",
    "    def remove(self, idx):\n",
    "        \n",
    "        #Delete a row and column with index IDX.\n",
    "        \n",
    "        indices = range(len(self))\n",
    "        indices.remove(idx)\n",
    "        return self.take(indices, axis=0).take(indices, axis=1)\n",
    "\n",
    "    def summary(self):\n",
    "        #Return a small summary of the matrix\n",
    "        print('DistanceMatrix (n=%s)' % len(self))\n",
    "        print('Distance metric = %s' % self.distance_metric.__name__)\n",
    "        print(self)"
   ]
  },
  {
   "cell_type": "code",
   "execution_count": 21,
   "metadata": {},
   "outputs": [],
   "source": [
    "class Clusterer(AbstractClusterer):\n",
    "    \n",
    "    #The Hierarchical Agglomerative Clusterer starts with each of the N vectors\n",
    "   #as singleton clusters. This continues until there is only one cluster.\n",
    "    \n",
    "    def __init__(self, data, linkage='ward', num_clusters=1):\n",
    "        self._num_clusters = num_clusters\n",
    "        vector_ids = [[i] for i in range(len(data))]\n",
    "        self._dendrogram = Dendrogram(vector_ids)\n",
    "        numpy.fill_diagonal(data, numpy.inf)\n",
    "        self._dist_matrix = data\n",
    "        self.linkage = linkage_fn(linkage)\n",
    "\n",
    "    def smallest_distance(self, clusters):\n",
    "        \n",
    "        #Return the smallest distance in the distance matrix.\n",
    "        #The smallest distance depends on the possible connections in\n",
    "        #the distance matrix.\n",
    "        \n",
    "        i, j = numpy.unravel_index(numpy.argmin(clusters), clusters.shape)\n",
    "        return clusters[i, j], i, j\n",
    "\n",
    "    def cluster(self, verbose=0, sum_ess=False):\n",
    "        \n",
    "        #Cluster all clusters hierarchically until the level of\n",
    "        #num_clusters is obtained.\n",
    "        \n",
    "        clusters = copy.copy(self._dist_matrix)\n",
    "        #clusters = self._dist_matrix\n",
    "        summed_ess = 0.0\n",
    "\n",
    "        while len(clusters) > max(self._num_clusters, 1):\n",
    "            if verbose >= 1:\n",
    "                print('k=%s' % len(clusters))\n",
    "                if verbose == 2:\n",
    "                    print(clusters)\n",
    "\n",
    "            best, i, j = self.smallest_distance(clusters)\n",
    "            # In Ward (1963) ess is summed at each iteration\n",
    "            # in R's hclust and Python's hcluster and some text books it is not.\n",
    "            # Here it is optional...\n",
    "            if sum_ess:\n",
    "                summed_ess += best\n",
    "            else:\n",
    "                summed_ess = best\n",
    "            clusters = self.update_distmatrix(i, j, clusters)\n",
    "            self._dendrogram.merge(i,j)\n",
    "            self._dendrogram[i].distance = summed_ess\n",
    "            indices = numpy.arange(clusters.shape[0])\n",
    "            indices = indices[indices!=j]\n",
    "            clusters = clusters.take(indices, axis=0).take(indices, axis=1)\n",
    "\n",
    "    def update_distmatrix(self, i, j, clusters):\n",
    "        \n",
    "        #Update the distance matrix using the specified linkage method so that\n",
    "        #it represents the correct distances to the newly formed cluster.\n",
    "        \n",
    "        return self.linkage(clusters, i, j, self._dendrogram)\n",
    "\n",
    "    @property\n",
    "    def dendrogram(self):\n",
    "        #Return the dendrogram object.\n",
    "        return self._dendrogram\n",
    "\n",
    "    def num_clusters(self):\n",
    "        return self._num_clusters\n",
    "\n",
    "    def __repr__(self):\n",
    "        return \"\"\"<Hierarchical Agglomerative Clusterer(linkage method: %r,\n",
    "                  n=%d clusters>\"\"\" % (self.linkage.__name__, self._num_clusters)\n"
   ]
  },
  {
   "cell_type": "code",
   "execution_count": 22,
   "metadata": {},
   "outputs": [],
   "source": [
    "class VNClusterer(Clusterer):\n",
    "    def __init__(self, data, linkage='ward', num_clusters=1):\n",
    "        Clusterer.__init__(self, data, linkage, num_clusters=num_clusters)\n",
    "\n",
    "    def iterate_clusters(self, clusters):\n",
    "        for i in range(1, len(clusters)):\n",
    "            yield i-1,i\n",
    "\n",
    "    def smallest_distance(self, clusters):\n",
    "        best = None\n",
    "        for i, j in self.iterate_clusters(clusters):\n",
    "            if best is None or clusters[i][j] <= best[0]:\n",
    "                best = (clusters[i][j], i, j)\n",
    "        return best\n",
    "\n",
    "    def cluster(self, verbose=False):\n",
    "        # we must sum the error sum of squares in order not to obtain\n",
    "        # singleton clustering.\n",
    "        Clusterer.cluster(self, verbose=verbose, sum_ess=True)"
   ]
  },
  {
   "cell_type": "markdown",
   "metadata": {},
   "source": [
    "Variability Neighbor Clustering Class. A subclass of the regular Clusterer where the order of clustering can be predetermined. In the normal clustering procedure, all clusters can be clustered with all other clusters. In this class, the clusters that are allowed to be clustered follow a specific order.\n",
    "    "
   ]
  },
  {
   "cell_type": "code",
   "execution_count": 23,
   "metadata": {},
   "outputs": [],
   "source": [
    "class EuclideanNeighborClusterer(VNClusterer):\n",
    "\n",
    "    def iterate_clusters(self, x, y):\n",
    "        n_features, n_samples = x, y\n",
    "        offset = (0, -1, 1)\n",
    "        indices = ((i, j) for i in range(n_features) for j in range(n_samples))\n",
    "        for i, j in indices:\n",
    "            all_neigh = ((i + x, j + y) for x in offset for y in offset)\n",
    "            valid = ((i*n_features + j) for i, j in all_neigh if (0 <= i < n_features) and (0 <= j < n_samples))\n",
    "            target = valid.next()\n",
    "            for neighbor in list(valid):\n",
    "                yield target, neighbor"
   ]
  },
  {
   "cell_type": "markdown",
   "metadata": {},
   "source": [
    "# Apply linkage clustering functions on given dataset"
   ]
  },
  {
   "cell_type": "markdown",
   "metadata": {},
   "source": [
    "# Clustering with (L2)Euclidean Distance"
   ]
  },
  {
   "cell_type": "code",
   "execution_count": 24,
   "metadata": {},
   "outputs": [],
   "source": [
    "vectors = numpy.array([[4,4], [8,4], [15,8], [24,4], [24,12]])\n",
    "dist_matrix = DistanceMatrix(vectors, euclidean_distance)"
   ]
  },
  {
   "cell_type": "markdown",
   "metadata": {},
   "source": [
    "## Single Linkage"
   ]
  },
  {
   "cell_type": "code",
   "execution_count": 25,
   "metadata": {},
   "outputs": [
    {
     "name": "stdout",
     "output_type": "stream",
     "text": [
      "k=5\n",
      "[[        inf  4.         11.70469991 20.         21.54065923]\n",
      " [ 4.                 inf  8.06225775 16.         17.88854382]\n",
      " [11.70469991  8.06225775         inf  9.8488578   9.8488578 ]\n",
      " [20.         16.          9.8488578          inf  8.        ]\n",
      " [21.54065923 17.88854382  9.8488578   8.                 inf]]\n",
      "k=4\n",
      "[[        inf  8.06225775 16.         17.88854382]\n",
      " [ 8.06225775         inf  9.8488578   9.8488578 ]\n",
      " [16.          9.8488578          inf  8.        ]\n",
      " [17.88854382  9.8488578   8.                 inf]]\n",
      "k=3\n",
      "[[        inf  8.06225775 16.        ]\n",
      " [ 8.06225775         inf  9.8488578 ]\n",
      " [16.          9.8488578          inf]]\n",
      "k=2\n",
      "[[      inf 9.8488578]\n",
      " [9.8488578       inf]]\n"
     ]
    }
   ],
   "source": [
    "clusterer = Clusterer(dist_matrix, linkage='single')\n",
    "clusterer.cluster(verbose=2)"
   ]
  },
  {
   "cell_type": "code",
   "execution_count": 26,
   "metadata": {},
   "outputs": [
    {
     "data": {
      "image/png": "[encoded data removed]",
      "text/plain": [
       "<Figure size 432x288 with 1 Axes>"
      ]
     },
     "metadata": {
      "needs_background": "light"
     },
     "output_type": "display_data"
    }
   ],
   "source": [
    "labels = ['n'+str(i+1) for i in range(len(vectors))]\n",
    "clusterer.dendrogram.draw(title=clusterer.linkage.__name__, labels=labels)"
   ]
  },
  {
   "cell_type": "markdown",
   "metadata": {},
   "source": [
    "## Complete Linkage"
   ]
  },
  {
   "cell_type": "code",
   "execution_count": 27,
   "metadata": {},
   "outputs": [
    {
     "name": "stdout",
     "output_type": "stream",
     "text": [
      "k=5\n",
      "[[        inf  4.         11.70469991 20.         21.54065923]\n",
      " [ 4.                 inf  8.06225775 16.         17.88854382]\n",
      " [11.70469991  8.06225775         inf  9.8488578   9.8488578 ]\n",
      " [20.         16.          9.8488578          inf  8.        ]\n",
      " [21.54065923 17.88854382  9.8488578   8.                 inf]]\n",
      "k=4\n",
      "[[        inf 11.70469991 20.         21.54065923]\n",
      " [11.70469991         inf  9.8488578   9.8488578 ]\n",
      " [20.          9.8488578          inf  8.        ]\n",
      " [21.54065923  9.8488578   8.                 inf]]\n",
      "k=3\n",
      "[[        inf 11.70469991 21.54065923]\n",
      " [11.70469991         inf  9.8488578 ]\n",
      " [21.54065923  9.8488578          inf]]\n",
      "k=2\n",
      "[[        inf 21.54065923]\n",
      " [21.54065923         inf]]\n"
     ]
    }
   ],
   "source": [
    "clusterer = Clusterer(dist_matrix, linkage='complete')\n",
    "clusterer.cluster(verbose=2)"
   ]
  },
  {
   "cell_type": "code",
   "execution_count": 28,
   "metadata": {},
   "outputs": [
    {
     "data": {
      "image/png": "[encoded data removed]",
      "text/plain": [
       "<Figure size 432x288 with 1 Axes>"
      ]
     },
     "metadata": {},
     "output_type": "display_data"
    }
   ],
   "source": [
    "labels = ['n'+str(i+1) for i in range(len(vectors))]\n",
    "clusterer.dendrogram.draw(title=clusterer.linkage.__name__, labels=labels)"
   ]
  },
  {
   "cell_type": "markdown",
   "metadata": {},
   "source": [
    "## UPGMA Linkage"
   ]
  },
  {
   "cell_type": "code",
   "execution_count": 29,
   "metadata": {},
   "outputs": [
    {
     "name": "stdout",
     "output_type": "stream",
     "text": [
      "k=5\n",
      "[[        inf  4.         11.70469991 20.         21.54065923]\n",
      " [ 4.                 inf  8.06225775 16.         17.88854382]\n",
      " [11.70469991  8.06225775         inf  9.8488578   9.8488578 ]\n",
      " [20.         16.          9.8488578          inf  8.        ]\n",
      " [21.54065923 17.88854382  9.8488578   8.                 inf]]\n",
      "k=4\n",
      "[[        inf  9.88347883 18.         19.71460152]\n",
      " [ 9.88347883         inf  9.8488578   9.8488578 ]\n",
      " [18.          9.8488578          inf  8.        ]\n",
      " [19.71460152  9.8488578   8.                 inf]]\n",
      "k=3\n",
      "[[        inf  9.88347883 18.85730076]\n",
      " [ 9.88347883         inf  9.8488578 ]\n",
      " [18.85730076  9.8488578          inf]]\n",
      "k=2\n",
      "[[        inf 15.86602678]\n",
      " [15.86602678         inf]]\n"
     ]
    }
   ],
   "source": [
    "clusterer = Clusterer(dist_matrix, linkage='UPGMA')\n",
    "clusterer.cluster(verbose=2)"
   ]
  },
  {
   "cell_type": "code",
   "execution_count": 30,
   "metadata": {},
   "outputs": [
    {
     "data": {
      "image/png": "[encoded data removed]",
      "text/plain": [
       "<Figure size 432x288 with 1 Axes>"
      ]
     },
     "metadata": {},
     "output_type": "display_data"
    }
   ],
   "source": [
    "labels = ['n'+str(i+1) for i in range(len(vectors))]\n",
    "clusterer.dendrogram.draw(title=clusterer.linkage.__name__, labels=labels)"
   ]
  },
  {
   "cell_type": "markdown",
   "metadata": {},
   "source": [
    "## Median Linkage"
   ]
  },
  {
   "cell_type": "code",
   "execution_count": 31,
   "metadata": {},
   "outputs": [
    {
     "name": "stdout",
     "output_type": "stream",
     "text": [
      "k=5\n",
      "[[        inf  4.         11.70469991 20.         21.54065923]\n",
      " [ 4.                 inf  8.06225775 16.         17.88854382]\n",
      " [11.70469991  8.06225775         inf  9.8488578   9.8488578 ]\n",
      " [20.         16.          9.8488578          inf  8.        ]\n",
      " [21.54065923 17.88854382  9.8488578   8.                 inf]]\n",
      "k=4\n",
      "[[        inf  8.88347883 17.         18.71460152]\n",
      " [ 8.88347883         inf  9.8488578   9.8488578 ]\n",
      " [17.          9.8488578          inf  8.        ]\n",
      " [18.71460152  9.8488578   8.                 inf]]\n",
      "k=3\n",
      "[[        inf  8.88347883 15.85730076]\n",
      " [ 8.88347883         inf  7.8488578 ]\n",
      " [15.85730076  7.8488578          inf]]\n",
      "k=2\n",
      "[[        inf 10.40817535]\n",
      " [10.40817535         inf]]\n"
     ]
    }
   ],
   "source": [
    "clusterer = Clusterer(dist_matrix, linkage='median')\n",
    "clusterer.cluster(verbose=2)"
   ]
  },
  {
   "cell_type": "code",
   "execution_count": 32,
   "metadata": {},
   "outputs": [
    {
     "data": {
      "image/png": "[encoded data removed]",
      "text/plain": [
       "<Figure size 432x288 with 1 Axes>"
      ]
     },
     "metadata": {},
     "output_type": "display_data"
    }
   ],
   "source": [
    "labels = ['n'+str(i+1) for i in range(len(vectors))]\n",
    "clusterer.dendrogram.draw(title=clusterer.linkage.__name__, labels=labels)"
   ]
  },
  {
   "cell_type": "markdown",
   "metadata": {},
   "source": [
    "## PDLM Linkage"
   ]
  },
  {
   "cell_type": "code",
   "execution_count": 33,
   "metadata": {},
   "outputs": [
    {
     "name": "stdout",
     "output_type": "stream",
     "text": [
      "k=5\n",
      "[[        inf  4.         11.70469991 20.         21.54065923]\n",
      " [ 4.                 inf  8.06225775 16.         17.88854382]\n",
      " [11.70469991  8.06225775         inf  9.8488578   9.8488578 ]\n",
      " [20.         16.          9.8488578          inf  8.        ]\n",
      " [21.54065923 17.88854382  9.8488578   8.                 inf]]\n",
      "k=4\n",
      "[[        inf  8.88347883 17.         18.71460152]\n",
      " [ 8.88347883         inf  9.8488578   9.8488578 ]\n",
      " [17.          9.8488578          inf  8.        ]\n",
      " [18.71460152  9.8488578   8.                 inf]]\n",
      "k=3\n",
      "[[        inf  8.88347883 15.85730076]\n",
      " [ 8.88347883         inf  7.8488578 ]\n",
      " [15.85730076  7.8488578          inf]]\n",
      "k=2\n",
      "[[        inf 11.78850283]\n",
      " [11.78850283         inf]]\n"
     ]
    }
   ],
   "source": [
    "clusterer = Clusterer(dist_matrix, linkage='PDLM')\n",
    "clusterer.cluster(verbose=2)"
   ]
  },
  {
   "cell_type": "code",
   "execution_count": 34,
   "metadata": {},
   "outputs": [
    {
     "data": {
      "image/png": "[encoded data removed]",
      "text/plain": [
       "<Figure size 432x288 with 1 Axes>"
      ]
     },
     "metadata": {},
     "output_type": "display_data"
    }
   ],
   "source": [
    "labels = ['n'+str(i+1) for i in range(len(vectors))]\n",
    "clusterer.dendrogram.draw(title=clusterer.linkage.__name__, labels=labels)"
   ]
  },
  {
   "cell_type": "markdown",
   "metadata": {},
   "source": [
    "## Ward Linkage"
   ]
  },
  {
   "cell_type": "code",
   "execution_count": 35,
   "metadata": {},
   "outputs": [
    {
     "name": "stdout",
     "output_type": "stream",
     "text": [
      "k=5\n",
      "[[        inf  4.         11.70469991 20.         21.54065923]\n",
      " [ 4.                 inf  8.06225775 16.         17.88854382]\n",
      " [11.70469991  8.06225775         inf  9.8488578   9.8488578 ]\n",
      " [20.         16.          9.8488578          inf  8.        ]\n",
      " [21.54065923 17.88854382  9.8488578   8.                 inf]]\n",
      "k=4\n",
      "[[        inf 11.84463844 22.66666667 24.95280203]\n",
      " [11.84463844         inf  9.8488578   9.8488578 ]\n",
      " [22.66666667  9.8488578          inf  8.        ]\n",
      " [24.95280203  9.8488578   8.                 inf]]\n",
      "k=3\n",
      "[[        inf 11.84463844 31.71460152]\n",
      " [11.84463844         inf 10.46514374]\n",
      " [31.71460152 10.46514374         inf]]\n",
      "k=2\n",
      "[[        inf 28.29240679]\n",
      " [28.29240679         inf]]\n"
     ]
    }
   ],
   "source": [
    "clusterer = Clusterer(dist_matrix, linkage='ward')\n",
    "clusterer.cluster(verbose=2)"
   ]
  },
  {
   "cell_type": "code",
   "execution_count": 36,
   "metadata": {},
   "outputs": [
    {
     "data": {
      "image/png": "[encoded data removed]",
      "text/plain": [
       "<Figure size 432x288 with 1 Axes>"
      ]
     },
     "metadata": {},
     "output_type": "display_data"
    }
   ],
   "source": [
    "labels = ['n'+str(i+1) for i in range(len(vectors))]\n",
    "clusterer.dendrogram.draw(title=clusterer.linkage.__name__, labels=labels)"
   ]
  },
  {
   "cell_type": "markdown",
   "metadata": {},
   "source": [
    "## WPGMA Linkage"
   ]
  },
  {
   "cell_type": "code",
   "execution_count": 37,
   "metadata": {},
   "outputs": [
    {
     "name": "stdout",
     "output_type": "stream",
     "text": [
      "k=5\n",
      "[[        inf  4.         11.70469991 20.         21.54065923]\n",
      " [ 4.                 inf  8.06225775 16.         17.88854382]\n",
      " [11.70469991  8.06225775         inf  9.8488578   9.8488578 ]\n",
      " [20.         16.          9.8488578          inf  8.        ]\n",
      " [21.54065923 17.88854382  9.8488578   8.                 inf]]\n",
      "k=4\n",
      "[[        inf  9.88347883 18.         19.71460152]\n",
      " [ 9.88347883         inf  9.8488578   9.8488578 ]\n",
      " [18.          9.8488578          inf  8.        ]\n",
      " [19.71460152  9.8488578   8.                 inf]]\n",
      "k=3\n",
      "[[        inf  9.88347883 18.85730076]\n",
      " [ 9.88347883         inf  9.8488578 ]\n",
      " [18.85730076  9.8488578          inf]]\n",
      "k=2\n",
      "[[       inf 14.3703898]\n",
      " [14.3703898        inf]]\n"
     ]
    }
   ],
   "source": [
    "clusterer = Clusterer(dist_matrix, linkage='WPGMA')\n",
    "clusterer.cluster(verbose=2)"
   ]
  },
  {
   "cell_type": "code",
   "execution_count": 38,
   "metadata": {},
   "outputs": [
    {
     "data": {
      "image/png": "[encoded data removed]",
      "text/plain": [
       "<Figure size 432x288 with 1 Axes>"
      ]
     },
     "metadata": {},
     "output_type": "display_data"
    }
   ],
   "source": [
    "labels = ['n'+str(i+1) for i in range(len(vectors))]\n",
    "clusterer.dendrogram.draw(title=clusterer.linkage.__name__, labels=labels)"
   ]
  },
  {
   "cell_type": "markdown",
   "metadata": {},
   "source": [
    "# Clustering using L1 Manhattan Distance"
   ]
  },
  {
   "cell_type": "code",
   "execution_count": 39,
   "metadata": {},
   "outputs": [],
   "source": [
    "vectors = numpy.array([[4,4], [8,4], [15,8], [24,4], [24,12]])\n",
    "dist_matrix = DistanceMatrix(vectors, manhattan_distance)"
   ]
  },
  {
   "cell_type": "markdown",
   "metadata": {},
   "source": [
    "## Single Linkage"
   ]
  },
  {
   "cell_type": "code",
   "execution_count": 40,
   "metadata": {},
   "outputs": [
    {
     "name": "stdout",
     "output_type": "stream",
     "text": [
      "k=5\n",
      "[[inf  4. 15. 20. 28.]\n",
      " [ 4. inf 11. 16. 24.]\n",
      " [15. 11. inf 13. 13.]\n",
      " [20. 16. 13. inf  8.]\n",
      " [28. 24. 13.  8. inf]]\n",
      "k=4\n",
      "[[inf 11. 16. 24.]\n",
      " [11. inf 13. 13.]\n",
      " [16. 13. inf  8.]\n",
      " [24. 13.  8. inf]]\n",
      "k=3\n",
      "[[inf 11. 16.]\n",
      " [11. inf 13.]\n",
      " [16. 13. inf]]\n",
      "k=2\n",
      "[[inf 13.]\n",
      " [13. inf]]\n"
     ]
    }
   ],
   "source": [
    "clusterer = Clusterer(dist_matrix, linkage='single')\n",
    "clusterer.cluster(verbose=2)"
   ]
  },
  {
   "cell_type": "code",
   "execution_count": 41,
   "metadata": {},
   "outputs": [
    {
     "data": {
      "image/png": "[encoded data removed]",
      "text/plain": [
       "<Figure size 432x288 with 1 Axes>"
      ]
     },
     "metadata": {},
     "output_type": "display_data"
    }
   ],
   "source": [
    "labels = ['n'+str(i+1) for i in range(len(vectors))]\n",
    "clusterer.dendrogram.draw(title=clusterer.linkage.__name__, labels=labels)"
   ]
  },
  {
   "cell_type": "markdown",
   "metadata": {},
   "source": [
    "## Complete Linkage"
   ]
  },
  {
   "cell_type": "code",
   "execution_count": 42,
   "metadata": {},
   "outputs": [
    {
     "name": "stdout",
     "output_type": "stream",
     "text": [
      "k=5\n",
      "[[inf  4. 15. 20. 28.]\n",
      " [ 4. inf 11. 16. 24.]\n",
      " [15. 11. inf 13. 13.]\n",
      " [20. 16. 13. inf  8.]\n",
      " [28. 24. 13.  8. inf]]\n",
      "k=4\n",
      "[[inf 15. 20. 28.]\n",
      " [15. inf 13. 13.]\n",
      " [20. 13. inf  8.]\n",
      " [28. 13.  8. inf]]\n",
      "k=3\n",
      "[[inf 15. 28.]\n",
      " [15. inf 13.]\n",
      " [28. 13. inf]]\n",
      "k=2\n",
      "[[inf 28.]\n",
      " [28. inf]]\n"
     ]
    }
   ],
   "source": [
    "clusterer = Clusterer(dist_matrix, linkage='complete')\n",
    "clusterer.cluster(verbose=2)"
   ]
  },
  {
   "cell_type": "code",
   "execution_count": 43,
   "metadata": {},
   "outputs": [
    {
     "data": {
      "image/png": "[encoded data removed]",
      "text/plain": [
       "<Figure size 432x288 with 1 Axes>"
      ]
     },
     "metadata": {},
     "output_type": "display_data"
    }
   ],
   "source": [
    "labels = ['n'+str(i+1) for i in range(len(vectors))]\n",
    "clusterer.dendrogram.draw(title=clusterer.linkage.__name__, labels=labels)"
   ]
  },
  {
   "cell_type": "markdown",
   "metadata": {},
   "source": []
  },
  {
   "cell_type": "code",
   "execution_count": 44,
   "metadata": {},
   "outputs": [
    {
     "name": "stdout",
     "output_type": "stream",
     "text": [
      "k=5\n",
      "[[inf  4. 15. 20. 28.]\n",
      " [ 4. inf 11. 16. 24.]\n",
      " [15. 11. inf 13. 13.]\n",
      " [20. 16. 13. inf  8.]\n",
      " [28. 24. 13.  8. inf]]\n",
      "k=4\n",
      "[[inf 12. 17. 25.]\n",
      " [12. inf 13. 13.]\n",
      " [17. 13. inf  8.]\n",
      " [25. 13.  8. inf]]\n",
      "k=3\n",
      "[[inf 12. 19.]\n",
      " [12. inf 11.]\n",
      " [19. 11. inf]]\n",
      "k=2\n",
      "[[  inf 12.75]\n",
      " [12.75   inf]]\n"
     ]
    }
   ],
   "source": [
    "clusterer = Clusterer(dist_matrix, linkage='median')\n",
    "clusterer.cluster(verbose=2)"
   ]
  },
  {
   "cell_type": "code",
   "execution_count": 45,
   "metadata": {},
   "outputs": [
    {
     "data": {
      "image/png": "[encoded data removed]",
      "text/plain": [
       "<Figure size 432x288 with 1 Axes>"
      ]
     },
     "metadata": {},
     "output_type": "display_data"
    }
   ],
   "source": [
    "labels = ['n'+str(i+1) for i in range(len(vectors))]\n",
    "clusterer.dendrogram.draw(title=clusterer.linkage.__name__, labels=labels)"
   ]
  },
  {
   "cell_type": "markdown",
   "metadata": {},
   "source": [
    "## UPGMA Linkage"
   ]
  },
  {
   "cell_type": "code",
   "execution_count": 46,
   "metadata": {},
   "outputs": [
    {
     "name": "stdout",
     "output_type": "stream",
     "text": [
      "k=5\n",
      "[[inf  4. 15. 20. 28.]\n",
      " [ 4. inf 11. 16. 24.]\n",
      " [15. 11. inf 13. 13.]\n",
      " [20. 16. 13. inf  8.]\n",
      " [28. 24. 13.  8. inf]]\n",
      "k=4\n",
      "[[inf 13. 18. 26.]\n",
      " [13. inf 13. 13.]\n",
      " [18. 13. inf  8.]\n",
      " [26. 13.  8. inf]]\n",
      "k=3\n",
      "[[inf 13. 22.]\n",
      " [13. inf 13.]\n",
      " [22. 13. inf]]\n",
      "k=2\n",
      "[[inf 19.]\n",
      " [19. inf]]\n"
     ]
    }
   ],
   "source": [
    "clusterer = Clusterer(dist_matrix, linkage='UPGMA')\n",
    "clusterer.cluster(verbose=2)"
   ]
  },
  {
   "cell_type": "code",
   "execution_count": 47,
   "metadata": {},
   "outputs": [
    {
     "data": {
      "image/png": "[encoded data removed]",
      "text/plain": [
       "<Figure size 432x288 with 1 Axes>"
      ]
     },
     "metadata": {},
     "output_type": "display_data"
    }
   ],
   "source": [
    "labels = ['n'+str(i+1) for i in range(len(vectors))]\n",
    "clusterer.dendrogram.draw(title=clusterer.linkage.__name__, labels=labels)"
   ]
  },
  {
   "cell_type": "markdown",
   "metadata": {},
   "source": [
    "## PDLM Linkage"
   ]
  },
  {
   "cell_type": "code",
   "execution_count": 48,
   "metadata": {},
   "outputs": [
    {
     "name": "stdout",
     "output_type": "stream",
     "text": [
      "k=5\n",
      "[[inf  4. 15. 20. 28.]\n",
      " [ 4. inf 11. 16. 24.]\n",
      " [15. 11. inf 13. 13.]\n",
      " [20. 16. 13. inf  8.]\n",
      " [28. 24. 13.  8. inf]]\n",
      "k=4\n",
      "[[inf 12. 17. 25.]\n",
      " [12. inf 13. 13.]\n",
      " [17. 13. inf  8.]\n",
      " [25. 13.  8. inf]]\n",
      "k=3\n",
      "[[inf 12. 19.]\n",
      " [12. inf 11.]\n",
      " [19. 11. inf]]\n",
      "k=2\n",
      "[[        inf 14.22222222]\n",
      " [14.22222222         inf]]\n"
     ]
    }
   ],
   "source": [
    "clusterer = Clusterer(dist_matrix, linkage='PDLM')\n",
    "clusterer.cluster(verbose=2)"
   ]
  },
  {
   "cell_type": "code",
   "execution_count": 49,
   "metadata": {},
   "outputs": [
    {
     "data": {
      "image/png": "[encoded data removed]",
      "text/plain": [
       "<Figure size 432x288 with 1 Axes>"
      ]
     },
     "metadata": {},
     "output_type": "display_data"
    }
   ],
   "source": [
    "labels = ['n'+str(i+1) for i in range(len(vectors))]\n",
    "clusterer.dendrogram.draw(title=clusterer.linkage.__name__, labels=labels)"
   ]
  },
  {
   "cell_type": "markdown",
   "metadata": {},
   "source": [
    "## Ward Linkage"
   ]
  },
  {
   "cell_type": "code",
   "execution_count": 50,
   "metadata": {},
   "outputs": [
    {
     "name": "stdout",
     "output_type": "stream",
     "text": [
      "k=5\n",
      "[[inf  4. 15. 20. 28.]\n",
      " [ 4. inf 11. 16. 24.]\n",
      " [15. 11. inf 13. 13.]\n",
      " [20. 16. 13. inf  8.]\n",
      " [28. 24. 13.  8. inf]]\n",
      "k=4\n",
      "[[        inf 16.         22.66666667 33.33333333]\n",
      " [16.                 inf 13.         13.        ]\n",
      " [22.66666667 13.                 inf  8.        ]\n",
      " [33.33333333 13.          8.                 inf]]\n",
      "k=3\n",
      "[[        inf 16.         38.        ]\n",
      " [16.                 inf 14.66666667]\n",
      " [38.         14.66666667         inf]]\n",
      "k=2\n",
      "[[        inf 34.13333333]\n",
      " [34.13333333         inf]]\n"
     ]
    }
   ],
   "source": [
    "clusterer = Clusterer(dist_matrix, linkage='ward')\n",
    "clusterer.cluster(verbose=2)"
   ]
  },
  {
   "cell_type": "code",
   "execution_count": 51,
   "metadata": {},
   "outputs": [
    {
     "data": {
      "image/png": "[encoded data removed]",
      "text/plain": [
       "<Figure size 432x288 with 1 Axes>"
      ]
     },
     "metadata": {},
     "output_type": "display_data"
    }
   ],
   "source": [
    "labels = ['n'+str(i+1) for i in range(len(vectors))]\n",
    "clusterer.dendrogram.draw(title=clusterer.linkage.__name__, labels=labels)"
   ]
  },
  {
   "cell_type": "markdown",
   "metadata": {},
   "source": [
    "## WPGMA Linkage"
   ]
  },
  {
   "cell_type": "code",
   "execution_count": 52,
   "metadata": {},
   "outputs": [
    {
     "name": "stdout",
     "output_type": "stream",
     "text": [
      "k=5\n",
      "[[inf  4. 15. 20. 28.]\n",
      " [ 4. inf 11. 16. 24.]\n",
      " [15. 11. inf 13. 13.]\n",
      " [20. 16. 13. inf  8.]\n",
      " [28. 24. 13.  8. inf]]\n",
      "k=4\n",
      "[[inf 13. 18. 26.]\n",
      " [13. inf 13. 13.]\n",
      " [18. 13. inf  8.]\n",
      " [26. 13.  8. inf]]\n",
      "k=3\n",
      "[[inf 13. 22.]\n",
      " [13. inf 13.]\n",
      " [22. 13. inf]]\n",
      "k=2\n",
      "[[ inf 17.5]\n",
      " [17.5  inf]]\n"
     ]
    }
   ],
   "source": [
    "clusterer = Clusterer(dist_matrix, linkage='WPGMA')\n",
    "clusterer.cluster(verbose=2)"
   ]
  },
  {
   "cell_type": "code",
   "execution_count": 53,
   "metadata": {},
   "outputs": [
    {
     "data": {
      "image/png": "[encoded data removed]",
      "text/plain": [
       "<Figure size 432x288 with 1 Axes>"
      ]
     },
     "metadata": {},
     "output_type": "display_data"
    }
   ],
   "source": [
    "labels = ['n'+str(i+1) for i in range(len(vectors))]\n",
    "clusterer.dendrogram.draw(title=clusterer.linkage.__name__, labels=labels)"
   ]
  },
  {
   "cell_type": "markdown",
   "metadata": {},
   "source": [
    "# WPGMA clustering with jaccard_distance"
   ]
  },
  {
   "cell_type": "code",
   "execution_count": 54,
   "metadata": {},
   "outputs": [
    {
     "name": "stdout",
     "output_type": "stream",
     "text": [
      "k=5\n",
      "[[inf 0.5 1.  0.5 1. ]\n",
      " [0.5 inf 1.  0.5 1. ]\n",
      " [1.  1.  inf 1.  1. ]\n",
      " [0.5 0.5 1.  inf 0.5]\n",
      " [1.  1.  1.  0.5 inf]]\n",
      "k=4\n",
      "[[inf 1.  0.5 1. ]\n",
      " [1.  inf 1.  1. ]\n",
      " [0.5 1.  inf 0.5]\n",
      " [1.  1.  0.5 inf]]\n",
      "k=3\n",
      "[[ inf 1.   0.75]\n",
      " [1.    inf 1.  ]\n",
      " [0.75 1.    inf]]\n",
      "k=2\n",
      "[[inf  1.]\n",
      " [ 1. inf]]\n"
     ]
    }
   ],
   "source": [
    "vectors = numpy.array([[4,4], [8,4], [15,8], [24,4], [24,12]])\n",
    "dist_matrix = DistanceMatrix(vectors, jaccard_distance)\n",
    "clusterer = Clusterer(dist_matrix, linkage='WPGMA')\n",
    "clusterer.cluster(verbose=2)"
   ]
  },
  {
   "cell_type": "code",
   "execution_count": 55,
   "metadata": {},
   "outputs": [
    {
     "data": {
      "image/png": "[encoded data removed]",
      "text/plain": [
       "<Figure size 432x288 with 1 Axes>"
      ]
     },
     "metadata": {},
     "output_type": "display_data"
    }
   ],
   "source": [
    "labels = ['n'+str(i+1) for i in range(len(vectors))]\n",
    "clusterer.dendrogram.draw(title=clusterer.linkage.__name__, labels=labels)"
   ]
  },
  {
   "cell_type": "markdown",
   "metadata": {},
   "source": [
    "# WPGMA clustering with canberra_distance"
   ]
  },
  {
   "cell_type": "code",
   "execution_count": 56,
   "metadata": {},
   "outputs": [
    {
     "name": "stdout",
     "output_type": "stream",
     "text": [
      "k=5\n",
      "[[       inf 0.33333333 0.9122807  0.71428571 1.21428571]\n",
      " [0.33333333        inf 0.63768116 0.5        1.        ]\n",
      " [0.9122807  0.63768116        inf 0.56410256 0.43076923]\n",
      " [0.71428571 0.5        0.56410256        inf 0.5       ]\n",
      " [1.21428571 1.         0.43076923 0.5               inf]]\n",
      "k=4\n",
      "[[       inf 0.77498093 0.60714286 1.10714286]\n",
      " [0.77498093        inf 0.56410256 0.43076923]\n",
      " [0.60714286 0.56410256        inf 0.5       ]\n",
      " [1.10714286 0.43076923 0.5               inf]]\n",
      "k=3\n",
      "[[       inf 0.94106189 0.60714286]\n",
      " [0.94106189        inf 0.53205128]\n",
      " [0.60714286 0.53205128        inf]]\n",
      "k=2\n",
      "[[       inf 0.77410238]\n",
      " [0.77410238        inf]]\n"
     ]
    }
   ],
   "source": [
    "vectors = numpy.array([[4,4], [8,4], [15,8], [24,4], [24,12]])\n",
    "dist_matrix = DistanceMatrix(vectors, canberra_distance)\n",
    "clusterer = Clusterer(dist_matrix, linkage='WPGMA')\n",
    "clusterer.cluster(verbose=2)"
   ]
  },
  {
   "cell_type": "code",
   "execution_count": 57,
   "metadata": {},
   "outputs": [
    {
     "data": {
      "image/png": "[encoded data removed]",
      "text/plain": [
       "<Figure size 432x288 with 1 Axes>"
      ]
     },
     "metadata": {},
     "output_type": "display_data"
    }
   ],
   "source": [
    "labels = ['n'+str(i+1) for i in range(len(vectors))]\n",
    "clusterer.dendrogram.draw(title=clusterer.linkage.__name__, labels=labels)"
   ]
  },
  {
   "cell_type": "markdown",
   "metadata": {},
   "source": [
    "# Conclusion\n",
    "\n",
    "Implemented linkage clustering algorithms without using python builtin libraries.\n",
    "\n",
    "Type of clustering algorithms:\n",
    "- Single\n",
    "- Complete\n",
    "- WPGMA\n",
    "- UPGMA\n",
    "- Ward\n",
    "- Mean\n",
    "- Median\n",
    "- Medoide\n",
    "- hausdorff\n",
    "\n",
    "Type of distances you can use:\n",
    "- cosine\n",
    "- L1\n",
    "- L2\n",
    "- canberra_distance\n",
    "- jaccard_distance"
   ]
  },
  {
   "cell_type": "code",
   "execution_count": 60,
   "metadata": {},
   "outputs": [
    {
     "name": "stdout",
     "output_type": "stream",
     "text": [
      "k=5\n",
      "[[inf  2.  1.  5.  8.]\n",
      " [ 2. inf  3.  7.  6.]\n",
      " [ 1.  3. inf  4.  9.]\n",
      " [ 5.  7.  4. inf 13.]\n",
      " [ 8.  6.  9. 13. inf]]\n",
      "k=4\n",
      "[[inf  3.  5.  9.]\n",
      " [ 3. inf  7.  6.]\n",
      " [ 5.  7. inf 13.]\n",
      " [ 9.  6. 13. inf]]\n",
      "k=3\n",
      "[[inf  7.  9.]\n",
      " [ 7. inf 13.]\n",
      " [ 9. 13. inf]]\n",
      "k=2\n",
      "[[inf 13.]\n",
      " [13. inf]]\n"
     ]
    }
   ],
   "source": [
    "vectors = numpy.array([[1,1], [2,0], [1,2], [1,6], [8,0]])\n",
    "dist_matrix = DistanceMatrix(vectors, manhattan_distance)\n",
    "clusterer = Clusterer(dist_matrix, linkage='complete')\n",
    "clusterer.cluster(verbose=2)"
   ]
  },
  {
   "cell_type": "code",
   "execution_count": 61,
   "metadata": {},
   "outputs": [
    {
     "data": {
      "image/png": "[encoded data removed]",
      "text/plain": [
       "<Figure size 432x288 with 1 Axes>"
      ]
     },
     "metadata": {},
     "output_type": "display_data"
    }
   ],
   "source": [
    "labels = ['n'+str(i+1) for i in range(len(vectors))]\n",
    "clusterer.dendrogram.draw(title=clusterer.linkage.__name__, labels=labels)"
   ]
  },
  {
   "cell_type": "code",
   "execution_count": null,
   "metadata": {},
   "outputs": [],
   "source": []
  }
 ],
 "metadata": {
  "kernelspec": {
   "display_name": "Python 3",
   "language": "python",
   "name": "python3"
  },
  "language_info": {
   "codemirror_mode": {
    "name": "ipython",
    "version": 3
   },
   "file_extension": ".py",
   "mimetype": "text/x-python",
   "name": "python",
   "nbconvert_exporter": "python",
   "pygments_lexer": "ipython3",
   "version": "3.8.3"
  }
 },
 "nbformat": 4,
 "nbformat_minor": 4
}
